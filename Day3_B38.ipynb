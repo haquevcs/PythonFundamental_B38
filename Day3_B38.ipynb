{
 "cells": [
  {
   "cell_type": "code",
   "execution_count": 8,
   "metadata": {},
   "outputs": [
    {
     "name": "stdout",
     "output_type": "stream",
     "text": [
      "anwarul haque\n"
     ]
    }
   ],
   "source": [
    "#string methods continues...\n",
    "fullname='anwarul haque'\n",
    "print(fullname)"
   ]
  },
  {
   "cell_type": "code",
   "execution_count": 5,
   "metadata": {},
   "outputs": [
    {
     "name": "stdout",
     "output_type": "stream",
     "text": [
      "Anwarul Haque\n"
     ]
    }
   ],
   "source": [
    "print(fullname.title()) #title method used for title case"
   ]
  },
  {
   "cell_type": "code",
   "execution_count": 6,
   "metadata": {},
   "outputs": [
    {
     "name": "stdout",
     "output_type": "stream",
     "text": [
      "ANWARUL HAQUE\n"
     ]
    }
   ],
   "source": [
    "print(fullname.upper())# upper method used to print upper case"
   ]
  },
  {
   "cell_type": "code",
   "execution_count": 7,
   "metadata": {},
   "outputs": [
    {
     "name": "stdout",
     "output_type": "stream",
     "text": [
      "anwarul haque\n"
     ]
    }
   ],
   "source": [
    "print(fullname.lower())# upper method used to print lower case"
   ]
  },
  {
   "cell_type": "code",
   "execution_count": null,
   "metadata": {},
   "outputs": [],
   "source": [
    "#introduction to f strings\n",
    "#general syntax is\n",
    "#"
   ]
  },
  {
   "cell_type": "code",
   "execution_count": null,
   "metadata": {},
   "outputs": [],
   "source": [
    "#f\"customwords {palceholder1}{palceholder2}{palceholder3}\n",
    "#Note: placeholder is nothing but referance variable holder"
   ]
  },
  {
   "cell_type": "code",
   "execution_count": 9,
   "metadata": {},
   "outputs": [
    {
     "name": "stdout",
     "output_type": "stream",
     "text": [
      "anwarulhaque\n"
     ]
    }
   ],
   "source": [
    "firstname='anwarul'\n",
    "lastname = 'haque'\n",
    "#join the first & last name\n",
    "fullname = f\"{firstname}{lastname}\"\n",
    "\n",
    "print (fullname)"
   ]
  },
  {
   "cell_type": "code",
   "execution_count": 12,
   "metadata": {},
   "outputs": [
    {
     "name": "stdout",
     "output_type": "stream",
     "text": [
      " Keep It Up Anwarul Haque\n"
     ]
    }
   ],
   "source": [
    "name=f\" Keep it up {firstname} {lastname}\"\n",
    "print(name.title())"
   ]
  },
  {
   "cell_type": "code",
   "execution_count": 15,
   "metadata": {},
   "outputs": [
    {
     "name": "stdout",
     "output_type": "stream",
     "text": [
      "favorites langueses :python\n",
      "c\n",
      "java\n",
      "html\n"
     ]
    }
   ],
   "source": [
    "#adding whitespaces to string\n",
    "#requirment: I want to conduct a survey among group of students of their favroites languases.\n",
    "flag='favorites langueses :python\\nc\\njava\\nhtml' #new line delimiter\n",
    "print(flag)"
   ]
  },
  {
   "cell_type": "code",
   "execution_count": 17,
   "metadata": {},
   "outputs": [
    {
     "name": "stdout",
     "output_type": "stream",
     "text": [
      "favorites langueses :python\n",
      "\tc\n",
      "\tjava\n",
      "\thtml\n"
     ]
    }
   ],
   "source": [
    "#enhancement of code\n",
    "flag1='favorites langueses :python\\n\\tc\\n\\tjava\\n\\thtml'# tab delimiter\n",
    "print(flag1)"
   ]
  },
  {
   "cell_type": "code",
   "execution_count": null,
   "metadata": {},
   "outputs": [],
   "source": []
  }
 ],
 "metadata": {
  "kernelspec": {
   "display_name": "Python 3",
   "language": "python",
   "name": "python3"
  },
  "language_info": {
   "codemirror_mode": {
    "name": "ipython",
    "version": 3
   },
   "file_extension": ".py",
   "mimetype": "text/x-python",
   "name": "python",
   "nbconvert_exporter": "python",
   "pygments_lexer": "ipython3",
   "version": "3.8.5"
  }
 },
 "nbformat": 4,
 "nbformat_minor": 4
}
